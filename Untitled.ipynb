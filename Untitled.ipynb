{
 "cells": [
  {
   "cell_type": "markdown",
   "id": "256c015c-25e7-4da6-a06a-0076855c3366",
   "metadata": {},
   "source": [
    "GENIUS_ACCESS_TOKEN=\"QI-RwS5AuYuJ4Ak3bEuAKS2ejLTyAtTm4n9AO0iuvpcF9HsxU_MudxftUE47Dbkh\""
   ]
  }
 ],
 "metadata": {
  "kernelspec": {
   "display_name": "Python 3 (ipykernel)",
   "language": "python",
   "name": "python3"
  },
  "language_info": {
   "codemirror_mode": {
    "name": "ipython",
    "version": 3
   },
   "file_extension": ".py",
   "mimetype": "text/x-python",
   "name": "python",
   "nbconvert_exporter": "python",
   "pygments_lexer": "ipython3",
   "version": "3.9.13"
  }
 },
 "nbformat": 4,
 "nbformat_minor": 5
}
