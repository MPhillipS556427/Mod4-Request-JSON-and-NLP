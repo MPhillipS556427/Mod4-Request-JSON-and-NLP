{
 "cells": [
  {
   "cell_type": "code",
   "execution_count": 2,
   "id": "64092c14-8b9a-4167-bc25-37b4731b6ff2",
   "metadata": {},
   "outputs": [
    {
     "name": "stdout",
     "output_type": "stream",
     "text": [
      "Searching for \"Bad Habits\" by Ed Sheeran...\n",
      "Done.\n",
      "Lyrics for 'Bad Habits' by Ed Sheeran have been saved to bad_habits_lyrics.txt\n",
      "Searching for \"Last Last\" by Burna Boy...\n",
      "Done.\n",
      "Lyrics for 'Last Last' by Burna Boy have been saved to last_last_lyrics.txt\n",
      "Searching for \"Viva la Vida\" by Coldplay...\n",
      "Done.\n",
      "Lyrics for 'Viva la Vida' by Coldplay have been saved to viva_la_vida_lyrics.txt\n",
      "Searching for \"Assurance\" by Davido...\n",
      "Done.\n",
      "Lyrics for 'Assurance' by Davido have been saved to assurance_lyrics.txt\n",
      "Searching for \"You Say\" by Lauren Daigle...\n",
      "Done.\n",
      "Lyrics for 'You Say' by Lauren Daigle have been saved to you_say_lyrics.txt\n",
      "Searching for \"Remember\" by Lauren Daigle...\n",
      "Done.\n",
      "Lyrics for 'Remember' by Lauren Daigle have been saved to remember_lyrics.txt\n"
     ]
    }
   ],
   "source": [
    "import lyricsgenius\n",
    "import json\n",
    "\n",
    "def get_song_lyrics(artist, song, filename):\n",
    "    genius = lyricsgenius.Genius(\"QI-RwS5AuYuJ4Ak3bEuAKS2ejLTyAtTm4n9AO0iuvpcF9HsxU_MudxftUE47Dbkh\")  # Replace \"YOUR_ACCESS_TOKEN\" with your actual access token\n",
    "    try:\n",
    "        song = genius.search_song(song, artist)\n",
    "        if song:\n",
    "            lyrics = song.lyrics\n",
    "            with open(filename, 'w') as file:\n",
    "                file.write(lyrics)\n",
    "            print(f\"Lyrics for '{song.title}' by {song.artist} have been saved to {filename}\")\n",
    "        else:\n",
    "            print(f\"Failed to retrieve lyrics for '{song}' by {artist}\")\n",
    "    except Exception as e:\n",
    "        print(f\"An error occurred: {str(e)}\")\n",
    "\n",
    "get_song_lyrics(\"Ed Sheeran\", \"Bad Habits\", \"bad_habits_lyrics.txt\")\n",
    "get_song_lyrics(\"Burna Boy\", \"Last Last\", \"last_last_lyrics.txt\")\n",
    "get_song_lyrics(\"Coldplay\", \"Viva la Vida\", \"viva_la_vida_lyrics.txt\")\n",
    "get_song_lyrics(\"Davido\", \"Assurance\", \"assurance_lyrics.txt\")\n",
    "get_song_lyrics(\"Lauren Daigle\", \"You Say\", \"you_say_lyrics.txt\")\n",
    "get_song_lyrics(\"Lauren Daigle\", \"Remember\", \"remember_lyrics.txt\")"
   ]
  },
  {
   "cell_type": "code",
   "execution_count": null,
   "id": "e8331c96-9b06-4ae8-b777-35ec42ad2423",
   "metadata": {},
   "outputs": [],
   "source": []
  }
 ],
 "metadata": {
  "kernelspec": {
   "display_name": "Python 3 (ipykernel)",
   "language": "python",
   "name": "python3"
  },
  "language_info": {
   "codemirror_mode": {
    "name": "ipython",
    "version": 3
   },
   "file_extension": ".py",
   "mimetype": "text/x-python",
   "name": "python",
   "nbconvert_exporter": "python",
   "pygments_lexer": "ipython3",
   "version": "3.9.13"
  }
 },
 "nbformat": 4,
 "nbformat_minor": 5
}
